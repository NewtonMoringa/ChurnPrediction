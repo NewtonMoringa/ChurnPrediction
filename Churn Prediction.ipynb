{
 "cells": [
  {
   "cell_type": "markdown",
   "id": "5f06b17f",
   "metadata": {},
   "source": [
    "### ML with PySpark\n",
    "+ Classify and Predict"
   ]
  },
  {
   "cell_type": "code",
   "execution_count": 1,
   "id": "a0e7507a",
   "metadata": {},
   "outputs": [],
   "source": [
    "# Load Pckgs\n",
    "from pyspark import SparkContext"
   ]
  },
  {
   "cell_type": "code",
   "execution_count": 2,
   "id": "13810d8f",
   "metadata": {},
   "outputs": [],
   "source": [
    "import os\n",
    "import sys\n",
    "os.environ['PYSPARK_PYTHON'] = sys.executable\n",
    "os.environ['PYSPARK_DRIVER_PYTHON'] = sys.executable\n",
    "sc= SparkContext(master='local[2]')\n"
   ]
  },
  {
   "cell_type": "code",
   "execution_count": 3,
   "id": "1a1dc996",
   "metadata": {},
   "outputs": [
    {
     "data": {
      "text/html": [
       "\n",
       "        <div>\n",
       "            <p><b>SparkContext</b></p>\n",
       "\n",
       "            <p><a href=\"http://host.docker.internal:4041\">Spark UI</a></p>\n",
       "\n",
       "            <dl>\n",
       "              <dt>Version</dt>\n",
       "                <dd><code>v3.2.1</code></dd>\n",
       "              <dt>Master</dt>\n",
       "                <dd><code>local[2]</code></dd>\n",
       "              <dt>AppName</dt>\n",
       "                <dd><code>pyspark-shell</code></dd>\n",
       "            </dl>\n",
       "        </div>\n",
       "        "
      ],
      "text/plain": [
       "<SparkContext master=local[2] appName=pyspark-shell>"
      ]
     },
     "execution_count": 3,
     "metadata": {},
     "output_type": "execute_result"
    }
   ],
   "source": [
    "# Spark UI\n",
    "sc"
   ]
  },
  {
   "cell_type": "code",
   "execution_count": 4,
   "id": "d7eea441",
   "metadata": {},
   "outputs": [],
   "source": [
    "# Load pkgs\n",
    "from pyspark.sql import SparkSession"
   ]
  },
  {
   "cell_type": "code",
   "execution_count": 5,
   "id": "9dfb511e",
   "metadata": {},
   "outputs": [],
   "source": [
    "spark = SparkSession.builder.appName(\"MLWithSpark\").getOrCreate()"
   ]
  },
  {
   "cell_type": "markdown",
   "id": "97141742",
   "metadata": {},
   "source": [
    "### WorkFlow\n",
    "+ Data Preparation\n",
    "+ Feature Engineering\n",
    "+ Build Model\n",
    "+ Evaluate"
   ]
  },
  {
   "cell_type": "markdown",
   "id": "65f573a9",
   "metadata": {},
   "source": [
    "# Task \n",
    "+ Predict Customer Churn"
   ]
  },
  {
   "cell_type": "code",
   "execution_count": 7,
   "id": "54dcecf4",
   "metadata": {},
   "outputs": [],
   "source": [
    "# Load Dataset\n",
    "df = spark.read.csv(\"telecom_dataset.csv\", header=True, inferSchema=True)"
   ]
  },
  {
   "cell_type": "code",
   "execution_count": 8,
   "id": "7ccbee07",
   "metadata": {},
   "outputs": [
    {
     "name": "stdout",
     "output_type": "stream",
     "text": [
      "+----------+------+---+--------------+--------------+------------+-----+\n",
      "|CustomerID|Gender|Age|      Contract|MonthlyCharges|TotalCharges|Churn|\n",
      "+----------+------+---+--------------+--------------+------------+-----+\n",
      "|         1|Female| 25|Month-to-Month|          65.7|       156.5|   No|\n",
      "|         2|  Male| 37|      One Year|          89.0|      2356.8|   No|\n",
      "|         3|  Male| 52|      Two Year|         115.5|      5408.6|   No|\n",
      "|         4|Female| 30|Month-to-Month|          75.9|       129.4|  Yes|\n",
      "|         5|  Male| 45|      One Year|          98.2|      3142.0|   No|\n",
      "|         6|Female| 55|      Two Year|          99.9|      6541.5|   No|\n",
      "|         7|  Male| 32|Month-to-Month|          82.1|       267.7|  Yes|\n",
      "|         8|Female| 28|Month-to-Month|          61.5|       346.9|   No|\n",
      "|         9|  Male| 48|      One Year|         101.8|      5149.6|  Yes|\n",
      "|        10|Female| 60|      Two Year|         108.1|      6742.8|  Yes|\n",
      "|        11|  Male| 42|Month-to-Month|          78.9|       547.6|   No|\n",
      "|        12|Female| 35|      One Year|          94.7|      1950.2|   No|\n",
      "|        13|  Male| 41|      Two Year|          96.5|      4188.1|   No|\n",
      "|        14|  Male| 38|Month-to-Month|          79.1|       148.2|  Yes|\n",
      "|        15|Female| 50|      One Year|         105.5|      4759.1|  Yes|\n",
      "|        16|  Male| 47|      Two Year|         112.3|      5432.0|  Yes|\n",
      "|        17|Female| 26|Month-to-Month|          68.2|       289.1|   No|\n",
      "|        18|  Male| 33|Month-to-Month|          75.5|       462.5|  Yes|\n",
      "|        19|Female| 31|      One Year|          85.9|      1673.8|   No|\n",
      "|        20|  Male| 39|      Two Year|          97.1|      3992.4|   No|\n",
      "+----------+------+---+--------------+--------------+------------+-----+\n",
      "\n"
     ]
    }
   ],
   "source": [
    "# Preview Dataset\n",
    "df.show()"
   ]
  },
  {
   "cell_type": "code",
   "execution_count": 9,
   "id": "44e660f6",
   "metadata": {},
   "outputs": [
    {
     "name": "stdout",
     "output_type": "stream",
     "text": [
      "['CustomerID', 'Gender', 'Age', 'Contract', 'MonthlyCharges', 'TotalCharges', 'Churn']\n"
     ]
    }
   ],
   "source": [
    "# Check for columns\n",
    "print(df.columns)"
   ]
  },
  {
   "cell_type": "code",
   "execution_count": 10,
   "id": "2e16c5d1",
   "metadata": {},
   "outputs": [],
   "source": [
    "# Re-arrange and select relevant columns\n",
    "df = df.select('Gender', 'Contract', 'Churn', 'Age', 'MonthlyCharges', 'TotalCharges')"
   ]
  },
  {
   "cell_type": "code",
   "execution_count": 13,
   "id": "287a6871",
   "metadata": {},
   "outputs": [
    {
     "data": {
      "text/plain": [
       "Row(Gender='Female', Contract='Month-to-Month', Churn='No', Age=25, MonthlyCharges=65.7, TotalCharges=156.5)"
      ]
     },
     "execution_count": 13,
     "metadata": {},
     "output_type": "execute_result"
    }
   ],
   "source": [
    "df.head()"
   ]
  },
  {
   "cell_type": "code",
   "execution_count": 14,
   "id": "e052b2c7",
   "metadata": {},
   "outputs": [
    {
     "data": {
      "text/plain": [
       "[('Gender', 'string'),\n",
       " ('Contract', 'string'),\n",
       " ('Churn', 'string'),\n",
       " ('Age', 'int'),\n",
       " ('MonthlyCharges', 'double'),\n",
       " ('TotalCharges', 'double')]"
      ]
     },
     "execution_count": 14,
     "metadata": {},
     "output_type": "execute_result"
    }
   ],
   "source": [
    "# Check datatypes\n",
    "df.dtypes"
   ]
  },
  {
   "cell_type": "code",
   "execution_count": 15,
   "id": "0fab2ece",
   "metadata": {},
   "outputs": [
    {
     "name": "stdout",
     "output_type": "stream",
     "text": [
      "root\n",
      " |-- Gender: string (nullable = true)\n",
      " |-- Contract: string (nullable = true)\n",
      " |-- Churn: string (nullable = true)\n",
      " |-- Age: integer (nullable = true)\n",
      " |-- MonthlyCharges: double (nullable = true)\n",
      " |-- TotalCharges: double (nullable = true)\n",
      "\n"
     ]
    }
   ],
   "source": [
    "# Check for the schema\n",
    "df.printSchema()"
   ]
  },
  {
   "cell_type": "code",
   "execution_count": 16,
   "id": "67866855",
   "metadata": {},
   "outputs": [
    {
     "name": "stdout",
     "output_type": "stream",
     "text": [
      "+-------+------+--------------+-----+------------------+-----------------+----------------+\n",
      "|summary|Gender|      Contract|Churn|               Age|   MonthlyCharges|    TotalCharges|\n",
      "+-------+------+--------------+-----+------------------+-----------------+----------------+\n",
      "|  count|    20|            20|   20|                20|               20|              20|\n",
      "|   mean|  null|          null| null|              39.7|            89.57|         2684.24|\n",
      "| stddev|  null|          null| null|10.021555714926123|15.79510583760212|2389.05648771093|\n",
      "|    min|Female|Month-to-Month|   No|                25|             61.5|           129.4|\n",
      "|    max|  Male|      Two Year|  Yes|                60|            115.5|          6742.8|\n",
      "+-------+------+--------------+-----+------------------+-----------------+----------------+\n",
      "\n",
      "None\n"
     ]
    }
   ],
   "source": [
    "# Descriptive summary\n",
    "print(df.describe().show())"
   ]
  },
  {
   "cell_type": "code",
   "execution_count": 17,
   "id": "fd1e2391",
   "metadata": {},
   "outputs": [
    {
     "name": "stdout",
     "output_type": "stream",
     "text": [
      "+--------------+-----+\n",
      "|      Contract|count|\n",
      "+--------------+-----+\n",
      "|Month-to-Month|    8|\n",
      "|      One Year|    6|\n",
      "|      Two Year|    6|\n",
      "+--------------+-----+\n",
      "\n"
     ]
    }
   ],
   "source": [
    "# Value Count group by contract\n",
    "df.groupBy('Contract').count().show()"
   ]
  },
  {
   "cell_type": "markdown",
   "id": "eae5874e",
   "metadata": {},
   "source": [
    "#### Feature Engineering\n",
    "+ Numerical Values\n",
    "+ Vectorization\n",
    "+ Scaling"
   ]
  },
  {
   "cell_type": "code",
   "execution_count": 18,
   "id": "bf7ff3c0",
   "metadata": {},
   "outputs": [],
   "source": [
    "import pyspark.ml"
   ]
  },
  {
   "cell_type": "code",
   "execution_count": 19,
   "id": "821c491b",
   "metadata": {},
   "outputs": [
    {
     "data": {
      "text/plain": [
       "['Estimator',\n",
       " 'Model',\n",
       " 'Pipeline',\n",
       " 'PipelineModel',\n",
       " 'PredictionModel',\n",
       " 'Predictor',\n",
       " 'Transformer',\n",
       " 'UnaryTransformer',\n",
       " '__all__',\n",
       " '__builtins__',\n",
       " '__cached__',\n",
       " '__doc__',\n",
       " '__file__',\n",
       " '__loader__',\n",
       " '__name__',\n",
       " '__package__',\n",
       " '__path__',\n",
       " '__spec__',\n",
       " 'base',\n",
       " 'classification',\n",
       " 'clustering',\n",
       " 'common',\n",
       " 'evaluation',\n",
       " 'feature',\n",
       " 'fpm',\n",
       " 'image',\n",
       " 'linalg',\n",
       " 'param',\n",
       " 'pipeline',\n",
       " 'recommendation',\n",
       " 'regression',\n",
       " 'stat',\n",
       " 'tree',\n",
       " 'tuning',\n",
       " 'util',\n",
       " 'wrapper']"
      ]
     },
     "execution_count": 19,
     "metadata": {},
     "output_type": "execute_result"
    }
   ],
   "source": [
    "dir(pyspark.ml)"
   ]
  },
  {
   "cell_type": "code",
   "execution_count": 20,
   "id": "d6b9bb7b",
   "metadata": {},
   "outputs": [],
   "source": [
    "# Load ML Pkgs\n",
    "from pyspark.ml.feature import VectorAssembler, StringIndexer"
   ]
  },
  {
   "cell_type": "code",
   "execution_count": 21,
   "id": "3e65cf22",
   "metadata": {},
   "outputs": [
    {
     "name": "stdout",
     "output_type": "stream",
     "text": [
      "+------+--------------+-----+---+--------------+------------+\n",
      "|Gender|      Contract|Churn|Age|MonthlyCharges|TotalCharges|\n",
      "+------+--------------+-----+---+--------------+------------+\n",
      "|Female|Month-to-Month|   No| 25|          65.7|       156.5|\n",
      "|  Male|      One Year|   No| 37|          89.0|      2356.8|\n",
      "|  Male|      Two Year|   No| 52|         115.5|      5408.6|\n",
      "|Female|Month-to-Month|  Yes| 30|          75.9|       129.4|\n",
      "|  Male|      One Year|   No| 45|          98.2|      3142.0|\n",
      "|Female|      Two Year|   No| 55|          99.9|      6541.5|\n",
      "|  Male|Month-to-Month|  Yes| 32|          82.1|       267.7|\n",
      "|Female|Month-to-Month|   No| 28|          61.5|       346.9|\n",
      "|  Male|      One Year|  Yes| 48|         101.8|      5149.6|\n",
      "|Female|      Two Year|  Yes| 60|         108.1|      6742.8|\n",
      "|  Male|Month-to-Month|   No| 42|          78.9|       547.6|\n",
      "|Female|      One Year|   No| 35|          94.7|      1950.2|\n",
      "|  Male|      Two Year|   No| 41|          96.5|      4188.1|\n",
      "|  Male|Month-to-Month|  Yes| 38|          79.1|       148.2|\n",
      "|Female|      One Year|  Yes| 50|         105.5|      4759.1|\n",
      "|  Male|      Two Year|  Yes| 47|         112.3|      5432.0|\n",
      "|Female|Month-to-Month|   No| 26|          68.2|       289.1|\n",
      "|  Male|Month-to-Month|  Yes| 33|          75.5|       462.5|\n",
      "|Female|      One Year|   No| 31|          85.9|      1673.8|\n",
      "|  Male|      Two Year|   No| 39|          97.1|      3992.4|\n",
      "+------+--------------+-----+---+--------------+------------+\n",
      "\n"
     ]
    }
   ],
   "source": [
    "df.show()"
   ]
  },
  {
   "cell_type": "code",
   "execution_count": 23,
   "id": "7e0f49fd",
   "metadata": {},
   "outputs": [
    {
     "name": "stdout",
     "output_type": "stream",
     "text": [
      "+--------------+\n",
      "|      Contract|\n",
      "+--------------+\n",
      "|Month-to-Month|\n",
      "|      One Year|\n",
      "|      Two Year|\n",
      "+--------------+\n",
      "\n"
     ]
    }
   ],
   "source": [
    "# Convert Contract column to 0(Month to month) or 1 (One year) and 2 (Two year)\n",
    "## Check unique values.\n",
    "df.select('Contract').distinct().show()"
   ]
  },
  {
   "cell_type": "code",
   "execution_count": 24,
   "id": "2a695d62",
   "metadata": {},
   "outputs": [],
   "source": [
    "# Convert the string to numerical code\n",
    "# label encoding \n",
    "contractEncoder = StringIndexer(inputCol='Contract', outputCol='Package').fit(df)"
   ]
  },
  {
   "cell_type": "code",
   "execution_count": 25,
   "id": "eed5ca6e",
   "metadata": {},
   "outputs": [],
   "source": [
    "df = contractEncoder.transform(df)"
   ]
  },
  {
   "cell_type": "code",
   "execution_count": 26,
   "id": "59a83d10",
   "metadata": {},
   "outputs": [
    {
     "name": "stdout",
     "output_type": "stream",
     "text": [
      "+------+--------------+-----+---+--------------+------------+-------+\n",
      "|Gender|      Contract|Churn|Age|MonthlyCharges|TotalCharges|Package|\n",
      "+------+--------------+-----+---+--------------+------------+-------+\n",
      "|Female|Month-to-Month|   No| 25|          65.7|       156.5|    0.0|\n",
      "|  Male|      One Year|   No| 37|          89.0|      2356.8|    1.0|\n",
      "|  Male|      Two Year|   No| 52|         115.5|      5408.6|    2.0|\n",
      "|Female|Month-to-Month|  Yes| 30|          75.9|       129.4|    0.0|\n",
      "|  Male|      One Year|   No| 45|          98.2|      3142.0|    1.0|\n",
      "+------+--------------+-----+---+--------------+------------+-------+\n",
      "only showing top 5 rows\n",
      "\n"
     ]
    }
   ],
   "source": [
    "df.show(5)"
   ]
  },
  {
   "cell_type": "code",
   "execution_count": 27,
   "id": "e9da6275",
   "metadata": {},
   "outputs": [
    {
     "name": "stdout",
     "output_type": "stream",
     "text": [
      "+------+\n",
      "|Gender|\n",
      "+------+\n",
      "|Female|\n",
      "|  Male|\n",
      "+------+\n",
      "\n"
     ]
    }
   ],
   "source": [
    "# Encode Gender column 0(Male), 1(Female)\n",
    "df.select('Gender').distinct().show()"
   ]
  },
  {
   "cell_type": "code",
   "execution_count": 28,
   "id": "cee51d8a",
   "metadata": {},
   "outputs": [],
   "source": [
    "# Convert the string to numerical code\n",
    "# label encoding \n",
    "genderEncoder = StringIndexer(inputCol='Gender', outputCol='Sex').fit(df)"
   ]
  },
  {
   "cell_type": "code",
   "execution_count": 29,
   "id": "e6cc6592",
   "metadata": {},
   "outputs": [],
   "source": [
    "df = genderEncoder.transform(df)"
   ]
  },
  {
   "cell_type": "code",
   "execution_count": 30,
   "id": "e08ce4ca",
   "metadata": {},
   "outputs": [
    {
     "name": "stdout",
     "output_type": "stream",
     "text": [
      "+------+--------------+-----+---+--------------+------------+-------+---+\n",
      "|Gender|      Contract|Churn|Age|MonthlyCharges|TotalCharges|Package|Sex|\n",
      "+------+--------------+-----+---+--------------+------------+-------+---+\n",
      "|Female|Month-to-Month|   No| 25|          65.7|       156.5|    0.0|1.0|\n",
      "|  Male|      One Year|   No| 37|          89.0|      2356.8|    1.0|0.0|\n",
      "|  Male|      Two Year|   No| 52|         115.5|      5408.6|    2.0|0.0|\n",
      "|Female|Month-to-Month|  Yes| 30|          75.9|       129.4|    0.0|1.0|\n",
      "|  Male|      One Year|   No| 45|          98.2|      3142.0|    1.0|0.0|\n",
      "|Female|      Two Year|   No| 55|          99.9|      6541.5|    2.0|1.0|\n",
      "|  Male|Month-to-Month|  Yes| 32|          82.1|       267.7|    0.0|0.0|\n",
      "|Female|Month-to-Month|   No| 28|          61.5|       346.9|    0.0|1.0|\n",
      "|  Male|      One Year|  Yes| 48|         101.8|      5149.6|    1.0|0.0|\n",
      "|Female|      Two Year|  Yes| 60|         108.1|      6742.8|    2.0|1.0|\n",
      "|  Male|Month-to-Month|   No| 42|          78.9|       547.6|    0.0|0.0|\n",
      "|Female|      One Year|   No| 35|          94.7|      1950.2|    1.0|1.0|\n",
      "|  Male|      Two Year|   No| 41|          96.5|      4188.1|    2.0|0.0|\n",
      "|  Male|Month-to-Month|  Yes| 38|          79.1|       148.2|    0.0|0.0|\n",
      "|Female|      One Year|  Yes| 50|         105.5|      4759.1|    1.0|1.0|\n",
      "|  Male|      Two Year|  Yes| 47|         112.3|      5432.0|    2.0|0.0|\n",
      "|Female|Month-to-Month|   No| 26|          68.2|       289.1|    0.0|1.0|\n",
      "|  Male|Month-to-Month|  Yes| 33|          75.5|       462.5|    0.0|0.0|\n",
      "|Female|      One Year|   No| 31|          85.9|      1673.8|    1.0|1.0|\n",
      "|  Male|      Two Year|   No| 39|          97.1|      3992.4|    2.0|0.0|\n",
      "+------+--------------+-----+---+--------------+------------+-------+---+\n",
      "\n"
     ]
    }
   ],
   "source": [
    "df.show()"
   ]
  },
  {
   "cell_type": "code",
   "execution_count": 31,
   "id": "f27ae713",
   "metadata": {},
   "outputs": [],
   "source": [
    "# Convert the string to numerical code 0(No), 1(Yes)\n",
    "# label encoding \n",
    "churnEncoder = StringIndexer(inputCol='Churn', outputCol='ChurnLabel').fit(df)"
   ]
  },
  {
   "cell_type": "code",
   "execution_count": 32,
   "id": "c5a7e8bf",
   "metadata": {},
   "outputs": [],
   "source": [
    "df = churnEncoder.transform(df)"
   ]
  },
  {
   "cell_type": "code",
   "execution_count": 33,
   "id": "df386194",
   "metadata": {},
   "outputs": [
    {
     "name": "stdout",
     "output_type": "stream",
     "text": [
      "+------+--------------+-----+---+--------------+------------+-------+---+----------+\n",
      "|Gender|      Contract|Churn|Age|MonthlyCharges|TotalCharges|Package|Sex|ChurnLabel|\n",
      "+------+--------------+-----+---+--------------+------------+-------+---+----------+\n",
      "|Female|Month-to-Month|   No| 25|          65.7|       156.5|    0.0|1.0|       0.0|\n",
      "|  Male|      One Year|   No| 37|          89.0|      2356.8|    1.0|0.0|       0.0|\n",
      "|  Male|      Two Year|   No| 52|         115.5|      5408.6|    2.0|0.0|       0.0|\n",
      "|Female|Month-to-Month|  Yes| 30|          75.9|       129.4|    0.0|1.0|       1.0|\n",
      "|  Male|      One Year|   No| 45|          98.2|      3142.0|    1.0|0.0|       0.0|\n",
      "|Female|      Two Year|   No| 55|          99.9|      6541.5|    2.0|1.0|       0.0|\n",
      "|  Male|Month-to-Month|  Yes| 32|          82.1|       267.7|    0.0|0.0|       1.0|\n",
      "|Female|Month-to-Month|   No| 28|          61.5|       346.9|    0.0|1.0|       0.0|\n",
      "|  Male|      One Year|  Yes| 48|         101.8|      5149.6|    1.0|0.0|       1.0|\n",
      "|Female|      Two Year|  Yes| 60|         108.1|      6742.8|    2.0|1.0|       1.0|\n",
      "|  Male|Month-to-Month|   No| 42|          78.9|       547.6|    0.0|0.0|       0.0|\n",
      "|Female|      One Year|   No| 35|          94.7|      1950.2|    1.0|1.0|       0.0|\n",
      "|  Male|      Two Year|   No| 41|          96.5|      4188.1|    2.0|0.0|       0.0|\n",
      "|  Male|Month-to-Month|  Yes| 38|          79.1|       148.2|    0.0|0.0|       1.0|\n",
      "|Female|      One Year|  Yes| 50|         105.5|      4759.1|    1.0|1.0|       1.0|\n",
      "|  Male|      Two Year|  Yes| 47|         112.3|      5432.0|    2.0|0.0|       1.0|\n",
      "|Female|Month-to-Month|   No| 26|          68.2|       289.1|    0.0|1.0|       0.0|\n",
      "|  Male|Month-to-Month|  Yes| 33|          75.5|       462.5|    0.0|0.0|       1.0|\n",
      "|Female|      One Year|   No| 31|          85.9|      1673.8|    1.0|1.0|       0.0|\n",
      "|  Male|      Two Year|   No| 39|          97.1|      3992.4|    2.0|0.0|       0.0|\n",
      "+------+--------------+-----+---+--------------+------------+-------+---+----------+\n",
      "\n"
     ]
    }
   ],
   "source": [
    "df.show()"
   ]
  },
  {
   "cell_type": "code",
   "execution_count": 34,
   "id": "416acc61",
   "metadata": {},
   "outputs": [
    {
     "data": {
      "text/plain": [
       "['No', 'Yes']"
      ]
     },
     "execution_count": 34,
     "metadata": {},
     "output_type": "execute_result"
    }
   ],
   "source": [
    "# Get the labels\n",
    "churnEncoder.labels"
   ]
  },
  {
   "cell_type": "code",
   "execution_count": 35,
   "id": "f7125e18",
   "metadata": {},
   "outputs": [
    {
     "data": {
      "text/plain": [
       "['Male', 'Female']"
      ]
     },
     "execution_count": 35,
     "metadata": {},
     "output_type": "execute_result"
    }
   ],
   "source": [
    "genderEncoder.labels"
   ]
  },
  {
   "cell_type": "code",
   "execution_count": 36,
   "id": "5198d51d",
   "metadata": {},
   "outputs": [
    {
     "data": {
      "text/plain": [
       "['Month-to-Month', 'One Year', 'Two Year']"
      ]
     },
     "execution_count": 36,
     "metadata": {},
     "output_type": "execute_result"
    }
   ],
   "source": [
    "contractEncoder.labels"
   ]
  },
  {
   "cell_type": "code",
   "execution_count": 40,
   "id": "94700f76",
   "metadata": {},
   "outputs": [
    {
     "name": "stdout",
     "output_type": "stream",
     "text": [
      "['Gender', 'Contract', 'Churn', 'Age', 'MonthlyCharges', 'TotalCharges', 'Package', 'Sex', 'ChurnLabel']\n"
     ]
    }
   ],
   "source": [
    "print(df.columns)"
   ]
  },
  {
   "cell_type": "code",
   "execution_count": 41,
   "id": "d0509052",
   "metadata": {},
   "outputs": [],
   "source": [
    "### Feature Selection\n",
    "required_features = ['Age', 'MonthlyCharges', 'TotalCharges', 'Package', 'Sex', 'ChurnLabel']"
   ]
  },
  {
   "cell_type": "code",
   "execution_count": 42,
   "id": "d8747bbb",
   "metadata": {},
   "outputs": [],
   "source": [
    "df2 = df.select(required_features)"
   ]
  },
  {
   "cell_type": "code",
   "execution_count": 43,
   "id": "5ca02882",
   "metadata": {},
   "outputs": [
    {
     "name": "stdout",
     "output_type": "stream",
     "text": [
      "+---+--------------+------------+-------+---+----------+\n",
      "|Age|MonthlyCharges|TotalCharges|Package|Sex|ChurnLabel|\n",
      "+---+--------------+------------+-------+---+----------+\n",
      "| 25|          65.7|       156.5|    0.0|1.0|       0.0|\n",
      "| 37|          89.0|      2356.8|    1.0|0.0|       0.0|\n",
      "| 52|         115.5|      5408.6|    2.0|0.0|       0.0|\n",
      "| 30|          75.9|       129.4|    0.0|1.0|       1.0|\n",
      "| 45|          98.2|      3142.0|    1.0|0.0|       0.0|\n",
      "+---+--------------+------------+-------+---+----------+\n",
      "only showing top 5 rows\n",
      "\n"
     ]
    }
   ],
   "source": [
    "df2.show(5)"
   ]
  },
  {
   "cell_type": "code",
   "execution_count": 44,
   "id": "39498821",
   "metadata": {},
   "outputs": [],
   "source": [
    "df2 = df2.toPandas().replace('NA',0).astype(float)"
   ]
  },
  {
   "cell_type": "code",
   "execution_count": 45,
   "id": "e1cafda4",
   "metadata": {},
   "outputs": [
    {
     "data": {
      "text/plain": [
       "pandas.core.frame.DataFrame"
      ]
     },
     "execution_count": 45,
     "metadata": {},
     "output_type": "execute_result"
    }
   ],
   "source": [
    "type(df2)"
   ]
  },
  {
   "cell_type": "code",
   "execution_count": 46,
   "id": "761f6613",
   "metadata": {},
   "outputs": [
    {
     "name": "stderr",
     "output_type": "stream",
     "text": [
      "C:\\Users\\HP\\anaconda3\\lib\\site-packages\\pyspark\\sql\\pandas\\conversion.py:371: FutureWarning: iteritems is deprecated and will be removed in a future version. Use .items instead.\n",
      "  for column, series in pdf.iteritems():\n"
     ]
    }
   ],
   "source": [
    "# Convert to PySpark Dataframe\n",
    "new_df =  spark.createDataFrame(df2)"
   ]
  },
  {
   "cell_type": "code",
   "execution_count": 47,
   "id": "430355fa",
   "metadata": {},
   "outputs": [
    {
     "data": {
      "text/plain": [
       "pyspark.sql.dataframe.DataFrame"
      ]
     },
     "execution_count": 47,
     "metadata": {},
     "output_type": "execute_result"
    }
   ],
   "source": [
    "type(new_df)"
   ]
  },
  {
   "cell_type": "code",
   "execution_count": 48,
   "id": "f85edef4",
   "metadata": {},
   "outputs": [
    {
     "name": "stdout",
     "output_type": "stream",
     "text": [
      "root\n",
      " |-- Age: double (nullable = true)\n",
      " |-- MonthlyCharges: double (nullable = true)\n",
      " |-- TotalCharges: double (nullable = true)\n",
      " |-- Package: double (nullable = true)\n",
      " |-- Sex: double (nullable = true)\n",
      " |-- ChurnLabel: double (nullable = true)\n",
      "\n"
     ]
    }
   ],
   "source": [
    "new_df.printSchema()"
   ]
  },
  {
   "cell_type": "code",
   "execution_count": 49,
   "id": "fe046d8f",
   "metadata": {},
   "outputs": [],
   "source": [
    "# Vectorizing\n",
    "vec_assembler = VectorAssembler(inputCols=required_features, outputCol='features')"
   ]
  },
  {
   "cell_type": "code",
   "execution_count": 50,
   "id": "a94bbc28",
   "metadata": {},
   "outputs": [],
   "source": [
    "vec_df = vec_assembler.transform(new_df)"
   ]
  },
  {
   "cell_type": "code",
   "execution_count": 51,
   "id": "72f11d44",
   "metadata": {},
   "outputs": [
    {
     "name": "stdout",
     "output_type": "stream",
     "text": [
      "+----+--------------+------------+-------+---+----------+--------------------+\n",
      "| Age|MonthlyCharges|TotalCharges|Package|Sex|ChurnLabel|            features|\n",
      "+----+--------------+------------+-------+---+----------+--------------------+\n",
      "|25.0|          65.7|       156.5|    0.0|1.0|       0.0|[25.0,65.7,156.5,...|\n",
      "|37.0|          89.0|      2356.8|    1.0|0.0|       0.0|[37.0,89.0,2356.8...|\n",
      "|52.0|         115.5|      5408.6|    2.0|0.0|       0.0|[52.0,115.5,5408....|\n",
      "|30.0|          75.9|       129.4|    0.0|1.0|       1.0|[30.0,75.9,129.4,...|\n",
      "|45.0|          98.2|      3142.0|    1.0|0.0|       0.0|[45.0,98.2,3142.0...|\n",
      "|55.0|          99.9|      6541.5|    2.0|1.0|       0.0|[55.0,99.9,6541.5...|\n",
      "|32.0|          82.1|       267.7|    0.0|0.0|       1.0|[32.0,82.1,267.7,...|\n",
      "|28.0|          61.5|       346.9|    0.0|1.0|       0.0|[28.0,61.5,346.9,...|\n",
      "|48.0|         101.8|      5149.6|    1.0|0.0|       1.0|[48.0,101.8,5149....|\n",
      "|60.0|         108.1|      6742.8|    2.0|1.0|       1.0|[60.0,108.1,6742....|\n",
      "|42.0|          78.9|       547.6|    0.0|0.0|       0.0|[42.0,78.9,547.6,...|\n",
      "|35.0|          94.7|      1950.2|    1.0|1.0|       0.0|[35.0,94.7,1950.2...|\n",
      "|41.0|          96.5|      4188.1|    2.0|0.0|       0.0|[41.0,96.5,4188.1...|\n",
      "|38.0|          79.1|       148.2|    0.0|0.0|       1.0|[38.0,79.1,148.2,...|\n",
      "|50.0|         105.5|      4759.1|    1.0|1.0|       1.0|[50.0,105.5,4759....|\n",
      "|47.0|         112.3|      5432.0|    2.0|0.0|       1.0|[47.0,112.3,5432....|\n",
      "|26.0|          68.2|       289.1|    0.0|1.0|       0.0|[26.0,68.2,289.1,...|\n",
      "|33.0|          75.5|       462.5|    0.0|0.0|       1.0|[33.0,75.5,462.5,...|\n",
      "|31.0|          85.9|      1673.8|    1.0|1.0|       0.0|[31.0,85.9,1673.8...|\n",
      "|39.0|          97.1|      3992.4|    2.0|0.0|       0.0|[39.0,97.1,3992.4...|\n",
      "+----+--------------+------------+-------+---+----------+--------------------+\n",
      "\n"
     ]
    }
   ],
   "source": [
    "vec_df.show()"
   ]
  },
  {
   "cell_type": "markdown",
   "id": "2d42ec64",
   "metadata": {},
   "source": [
    "### Train, Test, Split\n"
   ]
  },
  {
   "cell_type": "code",
   "execution_count": 52,
   "id": "3a7f91ff",
   "metadata": {},
   "outputs": [],
   "source": [
    "# Split dataset into training and testing data sets\n",
    "train_df,test_df = vec_df.randomSplit([0.7, 0.3])"
   ]
  },
  {
   "cell_type": "code",
   "execution_count": 53,
   "id": "3ab567a3",
   "metadata": {},
   "outputs": [
    {
     "data": {
      "text/plain": [
       "16"
      ]
     },
     "execution_count": 53,
     "metadata": {},
     "output_type": "execute_result"
    }
   ],
   "source": [
    "train_df.count()"
   ]
  },
  {
   "cell_type": "markdown",
   "id": "7731e3ad",
   "metadata": {},
   "source": [
    "#### Model building\n",
    "+ Pyspark.ml: DataFrame\n",
    "+ Pyspark.mllib: RDD / Legacy"
   ]
  },
  {
   "cell_type": "code",
   "execution_count": 54,
   "id": "a3c7062a",
   "metadata": {},
   "outputs": [],
   "source": [
    "from pyspark.ml.classification import LogisticRegression, DecisionTreeClassifier"
   ]
  },
  {
   "cell_type": "code",
   "execution_count": 55,
   "id": "e14b4021",
   "metadata": {},
   "outputs": [],
   "source": [
    "# Logistic Model\n",
    "lr = LogisticRegression(featuresCol='features', labelCol='ChurnLabel')"
   ]
  },
  {
   "cell_type": "code",
   "execution_count": 56,
   "id": "5865b5e2",
   "metadata": {},
   "outputs": [],
   "source": [
    "lr_mode = lr.fit(train_df)"
   ]
  },
  {
   "cell_type": "code",
   "execution_count": 57,
   "id": "5d2bf152",
   "metadata": {},
   "outputs": [],
   "source": [
    "y_pred = lr_mode.transform(test_df)"
   ]
  },
  {
   "cell_type": "code",
   "execution_count": 58,
   "id": "bd976dd3",
   "metadata": {},
   "outputs": [
    {
     "name": "stdout",
     "output_type": "stream",
     "text": [
      "['Age', 'MonthlyCharges', 'TotalCharges', 'Package', 'Sex', 'ChurnLabel', 'features', 'rawPrediction', 'probability', 'prediction']\n"
     ]
    }
   ],
   "source": [
    "print(y_pred.columns)"
   ]
  },
  {
   "cell_type": "code",
   "execution_count": 59,
   "id": "a9e2fa83",
   "metadata": {},
   "outputs": [
    {
     "name": "stdout",
     "output_type": "stream",
     "text": [
      "+----------+--------------------+--------------------+----------+\n",
      "|ChurnLabel|       rawPrediction|         probability|prediction|\n",
      "+----------+--------------------+--------------------+----------+\n",
      "|       0.0|[17.8679331301987...|[0.99999998261978...|       0.0|\n",
      "|       0.0|[17.9511885165234...|[0.99999998400818...|       0.0|\n",
      "|       1.0|[-17.653463988255...|[2.15376340778007...|       1.0|\n",
      "|       1.0|[-19.382195611167...|[3.82313291747622...|       1.0|\n",
      "+----------+--------------------+--------------------+----------+\n",
      "\n"
     ]
    }
   ],
   "source": [
    "y_pred.select('ChurnLabel', 'rawPrediction', 'probability', 'prediction').show()"
   ]
  },
  {
   "cell_type": "code",
   "execution_count": 60,
   "id": "0bfa3086",
   "metadata": {},
   "outputs": [],
   "source": [
    "from pyspark.ml.evaluation import MulticlassClassificationEvaluator"
   ]
  },
  {
   "cell_type": "markdown",
   "id": "b0b0609c",
   "metadata": {},
   "source": [
    "#### Model Evaluation"
   ]
  },
  {
   "cell_type": "code",
   "execution_count": 61,
   "id": "796522e1",
   "metadata": {},
   "outputs": [],
   "source": [
    "# How to check for Accuracy. Evaluate model\n",
    "multi_evaluator = MulticlassClassificationEvaluator(labelCol='ChurnLabel', metricName='accuracy')"
   ]
  },
  {
   "cell_type": "code",
   "execution_count": 62,
   "id": "3893d756",
   "metadata": {},
   "outputs": [
    {
     "data": {
      "text/plain": [
       "1.0"
      ]
     },
     "execution_count": 62,
     "metadata": {},
     "output_type": "execute_result"
    }
   ],
   "source": [
    "multi_evaluator.evaluate(y_pred)"
   ]
  },
  {
   "cell_type": "code",
   "execution_count": null,
   "id": "de8a40b5",
   "metadata": {},
   "outputs": [],
   "source": [
    "# Precision, F1 Score, Recall: Classification Report"
   ]
  },
  {
   "cell_type": "code",
   "execution_count": 63,
   "id": "e3da46c2",
   "metadata": {},
   "outputs": [],
   "source": [
    "from pyspark.mllib.evaluation import MulticlassMetrics"
   ]
  },
  {
   "cell_type": "code",
   "execution_count": 64,
   "id": "5525bdeb",
   "metadata": {},
   "outputs": [
    {
     "name": "stderr",
     "output_type": "stream",
     "text": [
      "C:\\Users\\HP\\anaconda3\\lib\\site-packages\\pyspark\\sql\\context.py:125: FutureWarning: Deprecated in 3.0.0. Use SparkSession.builder.getOrCreate() instead.\n",
      "  warnings.warn(\n"
     ]
    }
   ],
   "source": [
    "lr_metric = MulticlassMetrics(y_pred['ChurnLabel', 'prediction'].rdd)"
   ]
  },
  {
   "cell_type": "code",
   "execution_count": 65,
   "id": "68c87d79",
   "metadata": {},
   "outputs": [
    {
     "name": "stdout",
     "output_type": "stream",
     "text": [
      "1.0\n"
     ]
    }
   ],
   "source": [
    "print(lr_metric.precision(1.0))"
   ]
  },
  {
   "cell_type": "code",
   "execution_count": 66,
   "id": "69b62695",
   "metadata": {},
   "outputs": [
    {
     "name": "stdout",
     "output_type": "stream",
     "text": [
      "Accuracy:  1.0\n",
      "Precision:  1.0\n",
      "Recall:  1.0\n",
      "F1Score:  1.0\n"
     ]
    }
   ],
   "source": [
    "print(\"Accuracy: \",lr_metric.accuracy)\n",
    "print(\"Precision: \",lr_metric.precision(1.0))\n",
    "print(\"Recall: \",lr_metric.recall(1.0))\n",
    "print(\"F1Score: \",lr_metric.fMeasure(1.0))"
   ]
  },
  {
   "cell_type": "code",
   "execution_count": null,
   "id": "05294f77",
   "metadata": {},
   "outputs": [],
   "source": [
    "# Model prediction is 100% accurate"
   ]
  }
 ],
 "metadata": {
  "kernelspec": {
   "display_name": "Python 3 (ipykernel)",
   "language": "python",
   "name": "python3"
  },
  "language_info": {
   "codemirror_mode": {
    "name": "ipython",
    "version": 3
   },
   "file_extension": ".py",
   "mimetype": "text/x-python",
   "name": "python",
   "nbconvert_exporter": "python",
   "pygments_lexer": "ipython3",
   "version": "3.10.9"
  }
 },
 "nbformat": 4,
 "nbformat_minor": 5
}
